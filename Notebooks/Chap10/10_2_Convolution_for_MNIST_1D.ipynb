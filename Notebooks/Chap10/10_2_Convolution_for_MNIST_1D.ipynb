{
  "cells": [
    {
      "cell_type": "markdown",
      "metadata": {
        "colab_type": "text",
        "id": "view-in-github"
      },
      "source": [
        "<a href=\"https://colab.research.google.com/github/udlbook/udlbook/blob/main/Notebooks/Chap10/10_2_Convolution_for_MNIST_1D.ipynb\" target=\"_parent\"><img src=\"https://colab.research.google.com/assets/colab-badge.svg\" alt=\"Open In Colab\"/></a>"
      ]
    },
    {
      "cell_type": "markdown",
      "metadata": {
        "id": "t9vk9Elugvmi"
      },
      "source": [
        "# **Notebook 10.2: Convolution for MNIST-1D**\n",
        "\n",
        "This notebook investigates a 1D convolutional network for MNIST-1D as in figure 10.7 and 10.8a.\n",
        "\n",
        "Work through the cells below, running each cell in turn. In various places you will see the words \"TODO\". Follow the instructions at these places and make predictions about what is going to happen or write code to complete the functions.\n",
        "\n",
        "Contact me at udlbookmail@gmail.com if you find any mistakes or have any suggestions.\n",
        "\n"
      ]
    },
    {
      "cell_type": "code",
      "execution_count": null,
      "metadata": {
        "id": "D5yLObtZCi9J"
      },
      "outputs": [],
      "source": [
        "# Run this if you're in a Colab to install MNIST 1D repository\n",
        "!pip install git+https://github.com/greydanus/mnist1d"
      ]
    },
    {
      "cell_type": "code",
      "execution_count": 2,
      "metadata": {
        "id": "YrXWAH7sUWvU"
      },
      "outputs": [],
      "source": [
        "import numpy as np\n",
        "import os\n",
        "import torch, torch.nn as nn\n",
        "from torch.utils.data import TensorDataset, DataLoader\n",
        "from torch.optim.lr_scheduler import StepLR\n",
        "import matplotlib.pyplot as plt\n",
        "import mnist1d\n",
        "import random"
      ]
    },
    {
      "cell_type": "code",
      "execution_count": 3,
      "metadata": {
        "id": "twI72ZCrCt5z"
      },
      "outputs": [
        {
          "name": "stdout",
          "output_type": "stream",
          "text": [
            "Did or could not load data from ./mnist1d_data.pkl. Rebuilding dataset...\n",
            "Examples in training set: 4000\n",
            "Examples in test set: 1000\n",
            "Length of each example: 40\n"
          ]
        }
      ],
      "source": [
        "args = mnist1d.data.get_dataset_args()\n",
        "data = mnist1d.data.get_dataset(args, path='./mnist1d_data.pkl', download=False, regenerate=False)\n",
        "\n",
        "# The training and test input and outputs are in\n",
        "# data['x'], data['y'], data['x_test'], and data['y_test']\n",
        "print(\"Examples in training set: {}\".format(len(data['y'])))\n",
        "print(\"Examples in test set: {}\".format(len(data['y_test'])))\n",
        "print(\"Length of each example: {}\".format(data['x'].shape[-1]))"
      ]
    },
    {
      "cell_type": "code",
      "execution_count": 4,
      "metadata": {
        "id": "8bKADvLHbiV5"
      },
      "outputs": [
        {
          "name": "stdout",
          "output_type": "stream",
          "text": [
            "Train data: 4000 examples (columns), each of which has 40 dimensions (rows)\n",
            "Validation data: 1000 examples (columns), each of which has 40 dimensions (rows)\n"
          ]
        }
      ],
      "source": [
        "# Load in the data\n",
        "train_data_x = data['x'].transpose()\n",
        "train_data_y = data['y']\n",
        "val_data_x = data['x_test'].transpose()\n",
        "val_data_y = data['y_test']\n",
        "# Print out sizes\n",
        "print(\"Train data: %d examples (columns), each of which has %d dimensions (rows)\"%((train_data_x.shape[1],train_data_x.shape[0])))\n",
        "print(\"Validation data: %d examples (columns), each of which has %d dimensions (rows)\"%((val_data_x.shape[1],val_data_x.shape[0])))"
      ]
    },
    {
      "cell_type": "markdown",
      "metadata": {
        "id": "_sFvRDGrl4qe"
      },
      "source": [
        "Define the network"
      ]
    },
    {
      "cell_type": "code",
      "execution_count": 5,
      "metadata": {
        "id": "FslroPJJffrh"
      },
      "outputs": [],
      "source": [
        "# There are 40 input dimensions and 10 output dimensions for this data\n",
        "# The inputs correspond to the 40 offsets in the MNIST1D template.\n",
        "D_i = 40\n",
        "# The outputs correspond to the 10 digits\n",
        "D_o = 10\n",
        "\n",
        "\n",
        "# TODO Create a model with the following layers\n",
        "# 1. Convolutional layer, (input=length 40 and 1 channel, kernel size 3, stride 2, padding=\"valid\", 15 output channels )\n",
        "# 2. ReLU\n",
        "# 3. Convolutional layer, (input=length 19 and 15 channels, kernel size 3, stride 2, padding=\"valid\", 15 output channels )\n",
        "# 4. ReLU\n",
        "# 5. Convolutional layer, (input=length 9 and 15 channels, kernel size 3, stride 2, padding=\"valid\", 15 output channels)\n",
        "# 6. ReLU\n",
        "# 7. Flatten (converts 4x15) to length 60\n",
        "# 8. Linear layer (input size = 60, output size = 10)\n",
        "# References:\n",
        "# https://pytorch.org/docs/1.13/generated/torch.nn.Conv1d.html?highlight=conv1d#torch.nn.Conv1d\n",
        "# https://pytorch.org/docs/stable/generated/torch.nn.Flatten.html\n",
        "# https://pytorch.org/docs/1.13/generated/torch.nn.Linear.html?highlight=linear#torch.nn.Linear\n",
        "\n",
        "# NOTE THAT THE CONVOLUTIONAL LAYERS NEED TO TAKE THE NUMBER OF INPUT CHANNELS AS A PARAMETER\n",
        "# AND NOT THE INPUT SIZE.\n",
        "\n",
        "# Replace the following function:\n",
        "model = nn.Sequential(\n",
        "nn.Flatten(),\n",
        "nn.Linear(40, 100),\n",
        "nn.ReLU(),\n",
        "nn.Linear(100, 100),\n",
        "nn.ReLU(),\n",
        "nn.Linear(100, 10))\n",
        "\n",
        "\n",
        "\n"
      ]
    },
    {
      "cell_type": "code",
      "execution_count": 6,
      "metadata": {
        "id": "YgLaex1pfhqz"
      },
      "outputs": [],
      "source": [
        "# He initialization of weights\n",
        "def weights_init(layer_in):\n",
        "  if isinstance(layer_in, nn.Linear):\n",
        "    nn.init.kaiming_uniform_(layer_in.weight)\n",
        "    layer_in.bias.data.fill_(0.0)"
      ]
    },
    {
      "cell_type": "code",
      "execution_count": 7,
      "metadata": {
        "id": "NYw8I_3mmX5c"
      },
      "outputs": [
        {
          "name": "stdout",
          "output_type": "stream",
          "text": [
            "Epoch     0, train loss 1.606648, train error 61.00,  val loss 1.676709, percent error 68.10\n",
            "Epoch     1, train loss 1.367551, train error 51.97,  val loss 1.504825, percent error 59.10\n",
            "Epoch     2, train loss 1.196271, train error 43.90,  val loss 1.391255, percent error 55.30\n",
            "Epoch     3, train loss 1.046962, train error 37.45,  val loss 1.322651, percent error 51.40\n",
            "Epoch     4, train loss 0.915920, train error 32.47,  val loss 1.245957, percent error 48.60\n",
            "Epoch     5, train loss 0.808176, train error 28.15,  val loss 1.195256, percent error 46.10\n",
            "Epoch     6, train loss 0.782316, train error 28.80,  val loss 1.190346, percent error 44.50\n",
            "Epoch     7, train loss 0.662680, train error 23.18,  val loss 1.119125, percent error 42.20\n",
            "Epoch     8, train loss 0.596695, train error 21.03,  val loss 1.129598, percent error 42.10\n",
            "Epoch     9, train loss 0.521255, train error 17.78,  val loss 1.085511, percent error 41.00\n",
            "Epoch    10, train loss 0.486879, train error 15.85,  val loss 1.100287, percent error 39.90\n",
            "Epoch    11, train loss 0.432777, train error 14.57,  val loss 1.156527, percent error 40.20\n",
            "Epoch    12, train loss 0.414294, train error 14.30,  val loss 1.142630, percent error 38.80\n",
            "Epoch    13, train loss 0.361918, train error 12.32,  val loss 1.110986, percent error 39.20\n",
            "Epoch    14, train loss 0.285972, train error 8.97,  val loss 1.119452, percent error 37.00\n",
            "Epoch    15, train loss 0.299022, train error 9.80,  val loss 1.180623, percent error 38.20\n",
            "Epoch    16, train loss 0.254272, train error 8.12,  val loss 1.199657, percent error 37.20\n",
            "Epoch    17, train loss 0.205968, train error 6.43,  val loss 1.180056, percent error 36.60\n",
            "Epoch    18, train loss 0.167800, train error 4.68,  val loss 1.227207, percent error 36.40\n",
            "Epoch    19, train loss 0.148780, train error 3.35,  val loss 1.286435, percent error 36.70\n",
            "Epoch    20, train loss 0.082677, train error 0.72,  val loss 1.200131, percent error 34.60\n",
            "Epoch    21, train loss 0.065150, train error 0.25,  val loss 1.195871, percent error 35.30\n",
            "Epoch    22, train loss 0.059384, train error 0.12,  val loss 1.223704, percent error 34.90\n",
            "Epoch    23, train loss 0.050341, train error 0.03,  val loss 1.235240, percent error 34.70\n",
            "Epoch    24, train loss 0.046054, train error 0.03,  val loss 1.268875, percent error 35.40\n",
            "Epoch    25, train loss 0.040955, train error 0.00,  val loss 1.279975, percent error 35.00\n",
            "Epoch    26, train loss 0.038997, train error 0.00,  val loss 1.290569, percent error 34.90\n",
            "Epoch    27, train loss 0.034813, train error 0.00,  val loss 1.317019, percent error 35.30\n",
            "Epoch    28, train loss 0.032908, train error 0.00,  val loss 1.340713, percent error 35.10\n",
            "Epoch    29, train loss 0.029602, train error 0.00,  val loss 1.344648, percent error 35.50\n",
            "Epoch    30, train loss 0.028104, train error 0.00,  val loss 1.366426, percent error 34.40\n",
            "Epoch    31, train loss 0.026123, train error 0.00,  val loss 1.372811, percent error 34.60\n",
            "Epoch    32, train loss 0.024362, train error 0.00,  val loss 1.384235, percent error 34.40\n",
            "Epoch    33, train loss 0.023162, train error 0.00,  val loss 1.402960, percent error 35.00\n",
            "Epoch    34, train loss 0.021920, train error 0.00,  val loss 1.411380, percent error 34.60\n",
            "Epoch    35, train loss 0.020338, train error 0.00,  val loss 1.422147, percent error 34.90\n",
            "Epoch    36, train loss 0.019362, train error 0.00,  val loss 1.432173, percent error 34.70\n",
            "Epoch    37, train loss 0.018530, train error 0.00,  val loss 1.452143, percent error 34.70\n",
            "Epoch    38, train loss 0.017773, train error 0.00,  val loss 1.455973, percent error 35.20\n",
            "Epoch    39, train loss 0.016928, train error 0.00,  val loss 1.462591, percent error 34.80\n",
            "Epoch    40, train loss 0.016265, train error 0.00,  val loss 1.473533, percent error 34.90\n",
            "Epoch    41, train loss 0.015868, train error 0.00,  val loss 1.481099, percent error 35.10\n",
            "Epoch    42, train loss 0.015453, train error 0.00,  val loss 1.480385, percent error 34.80\n",
            "Epoch    43, train loss 0.015148, train error 0.00,  val loss 1.489205, percent error 35.10\n",
            "Epoch    44, train loss 0.014854, train error 0.00,  val loss 1.495146, percent error 34.90\n",
            "Epoch    45, train loss 0.014559, train error 0.00,  val loss 1.495622, percent error 34.70\n",
            "Epoch    46, train loss 0.014238, train error 0.00,  val loss 1.503045, percent error 34.60\n",
            "Epoch    47, train loss 0.014017, train error 0.00,  val loss 1.508113, percent error 34.50\n",
            "Epoch    48, train loss 0.013729, train error 0.00,  val loss 1.512709, percent error 34.60\n",
            "Epoch    49, train loss 0.013521, train error 0.00,  val loss 1.514790, percent error 34.80\n",
            "Epoch    50, train loss 0.013228, train error 0.00,  val loss 1.516578, percent error 34.60\n",
            "Epoch    51, train loss 0.013013, train error 0.00,  val loss 1.523273, percent error 35.00\n",
            "Epoch    52, train loss 0.012780, train error 0.00,  val loss 1.527025, percent error 34.90\n",
            "Epoch    53, train loss 0.012524, train error 0.00,  val loss 1.531876, percent error 35.00\n",
            "Epoch    54, train loss 0.012295, train error 0.00,  val loss 1.534507, percent error 34.70\n",
            "Epoch    55, train loss 0.012106, train error 0.00,  val loss 1.541416, percent error 35.10\n",
            "Epoch    56, train loss 0.011902, train error 0.00,  val loss 1.542809, percent error 35.00\n",
            "Epoch    57, train loss 0.011689, train error 0.00,  val loss 1.546487, percent error 34.80\n",
            "Epoch    58, train loss 0.011506, train error 0.00,  val loss 1.551646, percent error 34.90\n",
            "Epoch    59, train loss 0.011372, train error 0.00,  val loss 1.557531, percent error 35.20\n",
            "Epoch    60, train loss 0.011200, train error 0.00,  val loss 1.558655, percent error 35.10\n",
            "Epoch    61, train loss 0.011107, train error 0.00,  val loss 1.559157, percent error 35.00\n",
            "Epoch    62, train loss 0.011025, train error 0.00,  val loss 1.560125, percent error 34.90\n",
            "Epoch    63, train loss 0.010933, train error 0.00,  val loss 1.562259, percent error 35.00\n",
            "Epoch    64, train loss 0.010846, train error 0.00,  val loss 1.563817, percent error 35.00\n",
            "Epoch    65, train loss 0.010761, train error 0.00,  val loss 1.567100, percent error 35.10\n",
            "Epoch    66, train loss 0.010683, train error 0.00,  val loss 1.567436, percent error 35.10\n",
            "Epoch    67, train loss 0.010600, train error 0.00,  val loss 1.569679, percent error 35.10\n",
            "Epoch    68, train loss 0.010516, train error 0.00,  val loss 1.572093, percent error 35.10\n",
            "Epoch    69, train loss 0.010437, train error 0.00,  val loss 1.573803, percent error 35.00\n",
            "Epoch    70, train loss 0.010357, train error 0.00,  val loss 1.574974, percent error 35.00\n",
            "Epoch    71, train loss 0.010286, train error 0.00,  val loss 1.576976, percent error 35.10\n",
            "Epoch    72, train loss 0.010210, train error 0.00,  val loss 1.577899, percent error 35.00\n",
            "Epoch    73, train loss 0.010131, train error 0.00,  val loss 1.580914, percent error 35.00\n",
            "Epoch    74, train loss 0.010060, train error 0.00,  val loss 1.580820, percent error 35.00\n",
            "Epoch    75, train loss 0.009988, train error 0.00,  val loss 1.584476, percent error 35.10\n",
            "Epoch    76, train loss 0.009911, train error 0.00,  val loss 1.584780, percent error 35.10\n",
            "Epoch    77, train loss 0.009842, train error 0.00,  val loss 1.587651, percent error 35.00\n",
            "Epoch    78, train loss 0.009774, train error 0.00,  val loss 1.588838, percent error 35.00\n",
            "Epoch    79, train loss 0.009702, train error 0.00,  val loss 1.589238, percent error 35.00\n",
            "Epoch    80, train loss 0.009664, train error 0.00,  val loss 1.590985, percent error 35.00\n",
            "Epoch    81, train loss 0.009627, train error 0.00,  val loss 1.592409, percent error 35.00\n",
            "Epoch    82, train loss 0.009594, train error 0.00,  val loss 1.593073, percent error 35.00\n",
            "Epoch    83, train loss 0.009560, train error 0.00,  val loss 1.593149, percent error 35.10\n",
            "Epoch    84, train loss 0.009525, train error 0.00,  val loss 1.594506, percent error 35.00\n",
            "Epoch    85, train loss 0.009492, train error 0.00,  val loss 1.595610, percent error 35.00\n",
            "Epoch    86, train loss 0.009459, train error 0.00,  val loss 1.595940, percent error 35.00\n",
            "Epoch    87, train loss 0.009427, train error 0.00,  val loss 1.596991, percent error 34.90\n",
            "Epoch    88, train loss 0.009395, train error 0.00,  val loss 1.598272, percent error 35.00\n",
            "Epoch    89, train loss 0.009362, train error 0.00,  val loss 1.598877, percent error 35.10\n",
            "Epoch    90, train loss 0.009330, train error 0.00,  val loss 1.599882, percent error 35.00\n",
            "Epoch    91, train loss 0.009300, train error 0.00,  val loss 1.600256, percent error 35.10\n",
            "Epoch    92, train loss 0.009268, train error 0.00,  val loss 1.601437, percent error 35.10\n",
            "Epoch    93, train loss 0.009236, train error 0.00,  val loss 1.601583, percent error 35.00\n",
            "Epoch    94, train loss 0.009205, train error 0.00,  val loss 1.602929, percent error 35.10\n",
            "Epoch    95, train loss 0.009171, train error 0.00,  val loss 1.603602, percent error 35.00\n",
            "Epoch    96, train loss 0.009142, train error 0.00,  val loss 1.604651, percent error 35.10\n",
            "Epoch    97, train loss 0.009110, train error 0.00,  val loss 1.604814, percent error 35.10\n",
            "Epoch    98, train loss 0.009080, train error 0.00,  val loss 1.605697, percent error 35.10\n",
            "Epoch    99, train loss 0.009050, train error 0.00,  val loss 1.606984, percent error 35.10\n"
          ]
        },
        {
          "data": {
            "image/png": "[encoded data removed]",
            "text/plain": [
              "<Figure size 640x480 with 1 Axes>"
            ]
          },
          "metadata": {},
          "output_type": "display_data"
        }
      ],
      "source": [
        "# choose cross entropy loss function (equation 5.24 in the loss notes)\n",
        "loss_function = nn.CrossEntropyLoss()\n",
        "# construct SGD optimizer and initialize learning rate and momentum\n",
        "optimizer = torch.optim.SGD(model.parameters(), lr = 0.05, momentum=0.9)\n",
        "# object that decreases learning rate by half every 20 epochs\n",
        "scheduler = StepLR(optimizer, step_size=20, gamma=0.5)\n",
        "# create 100 dummy data points and store in data loader class\n",
        "x_train = torch.tensor(train_data_x.transpose().astype('float32'))\n",
        "y_train = torch.tensor(train_data_y.astype('long')).long()\n",
        "x_val= torch.tensor(val_data_x.transpose().astype('float32'))\n",
        "y_val = torch.tensor(val_data_y.astype('long')).long()\n",
        "\n",
        "# load the data into a class that creates the batches\n",
        "data_loader = DataLoader(TensorDataset(x_train,y_train), batch_size=100, shuffle=True, worker_init_fn=np.random.seed(1))\n",
        "\n",
        "# Initialize model weights\n",
        "model.apply(weights_init)\n",
        "\n",
        "# loop over the dataset n_epoch times\n",
        "n_epoch = 100\n",
        "# store the loss and the % correct at each epoch\n",
        "losses_train = np.zeros((n_epoch))\n",
        "errors_train = np.zeros((n_epoch))\n",
        "losses_val = np.zeros((n_epoch))\n",
        "errors_val = np.zeros((n_epoch))\n",
        "\n",
        "for epoch in range(n_epoch):\n",
        "  # loop over batches\n",
        "  for i, data in enumerate(data_loader):\n",
        "    # retrieve inputs and labels for this batch\n",
        "    x_batch, y_batch = data\n",
        "    # zero the parameter gradients\n",
        "    optimizer.zero_grad()\n",
        "    # forward pass -- calculate model output\n",
        "    pred = model(x_batch[:,None,:])\n",
        "    # compute the loss\n",
        "    loss = loss_function(pred, y_batch)\n",
        "    # backward pass\n",
        "    loss.backward()\n",
        "    # SGD update\n",
        "    optimizer.step()\n",
        "\n",
        "  # Run whole dataset to get statistics -- normally wouldn't do this\n",
        "  pred_train = model(x_train[:,None,:])\n",
        "  pred_val = model(x_val[:,None,:])\n",
        "  _, predicted_train_class = torch.max(pred_train.data, 1)\n",
        "  _, predicted_val_class = torch.max(pred_val.data, 1)\n",
        "  errors_train[epoch] = 100 - 100 * (predicted_train_class == y_train).float().sum() / len(y_train)\n",
        "  errors_val[epoch]= 100 - 100 * (predicted_val_class == y_val).float().sum() / len(y_val)\n",
        "  losses_train[epoch] = loss_function(pred_train, y_train).item()\n",
        "  losses_val[epoch]= loss_function(pred_val, y_val).item()\n",
        "  print(f'Epoch {epoch:5d}, train loss {losses_train[epoch]:.6f}, train error {errors_train[epoch]:3.2f},  val loss {losses_val[epoch]:.6f}, percent error {errors_val[epoch]:3.2f}')\n",
        "\n",
        "  # tell scheduler to consider updating learning rate\n",
        "  scheduler.step()\n",
        "\n",
        "# Plot the results\n",
        "fig, ax = plt.subplots()\n",
        "ax.plot(errors_train,'r-',label='train')\n",
        "ax.plot(errors_val,'b-',label='validation')\n",
        "ax.set_ylim(0,100); ax.set_xlim(0,n_epoch)\n",
        "ax.set_xlabel('Epoch'); ax.set_ylabel('Error')\n",
        "ax.set_title('Part I: Validation Result %3.2f'%(errors_val[-1]))\n",
        "ax.legend()\n",
        "plt.show()"
      ]
    }
  ],
  "metadata": {
    "colab": {
      "authorship_tag": "ABX9TyNb46PJB/CC1pcHGfjpUUZg",
      "include_colab_link": true,
      "provenance": []
    },
    "kernelspec": {
      "display_name": "base",
      "language": "python",
      "name": "python3"
    },
    "language_info": {
      "codemirror_mode": {
        "name": "ipython",
        "version": 3
      },
      "file_extension": ".py",
      "mimetype": "text/x-python",
      "name": "python",
      "nbconvert_exporter": "python",
      "pygments_lexer": "ipython3",
      "version": "3.12.3"
    }
  },
  "nbformat": 4,
  "nbformat_minor": 0
}
